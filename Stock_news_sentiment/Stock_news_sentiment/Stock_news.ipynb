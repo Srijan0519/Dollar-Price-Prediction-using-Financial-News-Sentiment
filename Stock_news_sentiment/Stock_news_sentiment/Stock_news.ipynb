{
 "cells": [
  {
   "cell_type": "code",
   "execution_count": 97,
   "metadata": {},
   "outputs": [],
   "source": [
    "import pandas as pd\n",
    "import numpy as np\n",
    "import nltk"
   ]
  },
  {
   "cell_type": "code",
   "execution_count": 98,
   "metadata": {},
   "outputs": [
    {
     "data": {
      "text/html": [
       "<div>\n",
       "<style scoped>\n",
       "    .dataframe tbody tr th:only-of-type {\n",
       "        vertical-align: middle;\n",
       "    }\n",
       "\n",
       "    .dataframe tbody tr th {\n",
       "        vertical-align: top;\n",
       "    }\n",
       "\n",
       "    .dataframe thead th {\n",
       "        text-align: right;\n",
       "    }\n",
       "</style>\n",
       "<table border=\"1\" class=\"dataframe\">\n",
       "  <thead>\n",
       "    <tr style=\"text-align: right;\">\n",
       "      <th></th>\n",
       "      <th>Date</th>\n",
       "      <th>Publication</th>\n",
       "      <th>Headline</th>\n",
       "      <th>URL</th>\n",
       "    </tr>\n",
       "  </thead>\n",
       "  <tbody>\n",
       "    <tr>\n",
       "      <th>0</th>\n",
       "      <td>20070101</td>\n",
       "      <td>New York Times</td>\n",
       "      <td>Rush to Hang Hussein Was  Questioned</td>\n",
       "      <td>http://www.nytimes.com/2007/01/01/world/middle...</td>\n",
       "    </tr>\n",
       "    <tr>\n",
       "      <th>1</th>\n",
       "      <td>20070101</td>\n",
       "      <td>New York Times</td>\n",
       "      <td>News Analysis: For Sunnis, Dictators End Is O...</td>\n",
       "      <td>http://www.nytimes.com/2007/01/01/world/middle...</td>\n",
       "    </tr>\n",
       "    <tr>\n",
       "      <th>2</th>\n",
       "      <td>20070101</td>\n",
       "      <td>New York Times</td>\n",
       "      <td>Hard Choices Over Video</td>\n",
       "      <td>http://www.nytimes.com/2007/01/01/world/middle...</td>\n",
       "    </tr>\n",
       "    <tr>\n",
       "      <th>3</th>\n",
       "      <td>20070101</td>\n",
       "      <td>New York Times</td>\n",
       "      <td>States Take Lead on Ethics Rules for Lawmakers</td>\n",
       "      <td>http://www.nytimes.com/2007/01/01/us/01ethics....</td>\n",
       "    </tr>\n",
       "    <tr>\n",
       "      <th>4</th>\n",
       "      <td>20070101</td>\n",
       "      <td>New York Times</td>\n",
       "      <td>Spitzer Arrives With Mandate, but Faces Challe...</td>\n",
       "      <td>http://www.nytimes.com/2007/01/01/nyregion/01e...</td>\n",
       "    </tr>\n",
       "  </tbody>\n",
       "</table>\n",
       "</div>"
      ],
      "text/plain": [
       "       Date     Publication  \\\n",
       "0  20070101  New York Times   \n",
       "1  20070101  New York Times   \n",
       "2  20070101  New York Times   \n",
       "3  20070101  New York Times   \n",
       "4  20070101  New York Times   \n",
       "\n",
       "                                            Headline  \\\n",
       "0               Rush to Hang Hussein Was  Questioned   \n",
       "1  News Analysis: For Sunnis, Dictators End Is O...   \n",
       "2                            Hard Choices Over Video   \n",
       "3     States Take Lead on Ethics Rules for Lawmakers   \n",
       "4  Spitzer Arrives With Mandate, but Faces Challe...   \n",
       "\n",
       "                                                 URL  \n",
       "0  http://www.nytimes.com/2007/01/01/world/middle...  \n",
       "1  http://www.nytimes.com/2007/01/01/world/middle...  \n",
       "2  http://www.nytimes.com/2007/01/01/world/middle...  \n",
       "3  http://www.nytimes.com/2007/01/01/us/01ethics....  \n",
       "4  http://www.nytimes.com/2007/01/01/nyregion/01e...  "
      ]
     },
     "execution_count": 98,
     "metadata": {},
     "output_type": "execute_result"
    }
   ],
   "source": [
    "headlines=pd.read_csv(\"headlines.csv\")\n",
    "headlines.head()"
   ]
  },
  {
   "cell_type": "code",
   "execution_count": 99,
   "metadata": {},
   "outputs": [
    {
     "data": {
      "text/plain": [
       "(4405397, 4)"
      ]
     },
     "execution_count": 99,
     "metadata": {},
     "output_type": "execute_result"
    }
   ],
   "source": [
    "headlines.shape"
   ]
  },
  {
   "cell_type": "code",
   "execution_count": 100,
   "metadata": {},
   "outputs": [
    {
     "data": {
      "text/plain": [
       "0   2007-01-01\n",
       "1   2007-01-01\n",
       "2   2007-01-01\n",
       "3   2007-01-01\n",
       "4   2007-01-01\n",
       "Name: Date, dtype: datetime64[ns]"
      ]
     },
     "execution_count": 100,
     "metadata": {},
     "output_type": "execute_result"
    }
   ],
   "source": [
    "headlines['Date'] = pd.to_datetime(headlines['Date'], format='%Y%m%d')\n",
    "headlines[\"Date\"].head()"
   ]
  },
  {
   "cell_type": "code",
   "execution_count": 101,
   "metadata": {},
   "outputs": [
    {
     "name": "stdout",
     "output_type": "stream",
     "text": [
      "Minimum Date: 2007-01-01 00:00:00\n",
      "Maximum Date: 2023-01-01 00:00:00\n"
     ]
    }
   ],
   "source": [
    "min_date = headlines['Date'].min()\n",
    "max_date = headlines['Date'].max()\n",
    "\n",
    "print(\"Minimum Date:\", min_date)\n",
    "print(\"Maximum Date:\", max_date)"
   ]
  },
  {
   "cell_type": "code",
   "execution_count": 102,
   "metadata": {},
   "outputs": [
    {
     "name": "stdout",
     "output_type": "stream",
     "text": [
      "             Date     Publication  \\\n",
      "294215 2008-08-08  New York Times   \n",
      "294216 2008-08-08  New York Times   \n",
      "294217 2008-08-08  New York Times   \n",
      "294218 2008-08-08  New York Times   \n",
      "294219 2008-08-08  New York Times   \n",
      "\n",
      "                                                 Headline  \\\n",
      "294215  Georgian and Russian Forces Facing Off in Rebe...   \n",
      "294216                                                NaN   \n",
      "294217                                        Photographs   \n",
      "294218       Games in Beijing Open With a Lavish Ceremony   \n",
      "294219                 Edwards Admits Extramarital Affair   \n",
      "\n",
      "                                                      URL  \n",
      "294215  http://www.nytimes.com/2008/08/09/world/europe...  \n",
      "294216  http://www.nytimes.com/2008/08/08/travel/escap...  \n",
      "294217  http://www.nytimes.com/slideshow/2008/08/08/wo...  \n",
      "294218  http://www.nytimes.com/2008/08/09/sports/olymp...  \n",
      "294219  http://thecaucus.blogs.nytimes.com/2008/08/08/...  \n",
      "Minimum Date in filtered dataframe: 2008-08-08 00:00:00\n",
      "Maximum Date in filtered dataframe: 2016-07-01 00:00:00\n"
     ]
    }
   ],
   "source": [
    "start_date = pd.to_datetime('2008-08-08')\n",
    "end_date = pd.to_datetime('2016-07-01')\n",
    "\n",
    "# Filter dataframe to include only rows between the limit\n",
    "headlines = headlines[(headlines['Date'] >= start_date) & (headlines['Date'] <= end_date)]\n",
    "\n",
    "# Display the first few rows of the filtered dataframe\n",
    "print(headlines.head())\n",
    "\n",
    "# Check the min and max dates in the filtered dataframe\n",
    "min_date_filtered = headlines['Date'].min()\n",
    "max_date_filtered = headlines['Date'].max()\n",
    "\n",
    "print(\"Minimum Date in filtered dataframe:\", min_date_filtered)\n",
    "print(\"Maximum Date in filtered dataframe:\", max_date_filtered)"
   ]
  },
  {
   "cell_type": "code",
   "execution_count": 103,
   "metadata": {},
   "outputs": [
    {
     "data": {
      "text/plain": [
       "(2247449, 4)"
      ]
     },
     "execution_count": 103,
     "metadata": {},
     "output_type": "execute_result"
    }
   ],
   "source": [
    "headlines.shape"
   ]
  },
  {
   "cell_type": "code",
   "execution_count": 104,
   "metadata": {},
   "outputs": [
    {
     "name": "stdout",
     "output_type": "stream",
     "text": [
      "Date               0\n",
      "Publication        0\n",
      "Headline       24104\n",
      "URL                0\n",
      "dtype: int64\n"
     ]
    }
   ],
   "source": [
    "print(headlines.isnull().sum())"
   ]
  },
  {
   "cell_type": "code",
   "execution_count": 105,
   "metadata": {},
   "outputs": [
    {
     "data": {
      "text/plain": [
       "(2223345, 4)"
      ]
     },
     "execution_count": 105,
     "metadata": {},
     "output_type": "execute_result"
    }
   ],
   "source": [
    "headlines = headlines.dropna()\n",
    "headlines.shape"
   ]
  },
  {
   "cell_type": "code",
   "execution_count": 106,
   "metadata": {},
   "outputs": [],
   "source": [
    "word=[\"U.S.A\", \"United States\", \"States\", \"America\", \"Alabama\", \"Alaska\", \"Arizona\", \"Arkansas\", \n",
    "                      \"California\", \"Colorado\", \"Connecticut\", \"Delaware\", \"Florida\", \"Georgia\", \n",
    "                      \"Hawaii\", \"Idaho\", \"Illinois\", \"Indiana\", \"Iowa\", \"Kansas\", \"Kentucky\", \n",
    "                      \"Louisiana\", \"Maine\", \"Maryland\", \"Massachusetts\", \"Michigan\", \"Minnesota\", \n",
    "                      \"Mississippi\", \"Missouri\", \"Montana\", \"Nebraska\", \"Nevada\", \"New Hampshire\", \n",
    "                      \"New Jersey\", \"New\",\"Mexico\", \"New York\", \"North\",\"Carolina\", \"North Dakota\", \n",
    "                      \"Ohio\", \"Oklahoma\", \"Oregon\", \"Pennsylvania\", \"Rhode Island\", \"South\",\"Carolina\", \n",
    "                      \"South Dakota\", \"Tennessee\", \"Texas\", \"Utah\", \"Vermont\", \"Virginia\", \"Washington\", \n",
    "                      \"West\",\"Virginia\", \"Wisconsin\", \"Wyoming\", \"democratic\", \"liberals\", \"mexico\", \n",
    "                      \"trade\", \"United Nations\", \"World Bank\", \"Debt\", \"Borrow\", \"Trump\", \"President\", \n",
    "                      \"Biden\", \"Clinton\", \"Elon Musk\", \"Company\", \"Tesla\", \"Investment\",\n",
    "                      \"recession\", \"inflation\", \"GDP\", \"stock\",\"market\", \"interest\",\"rate\", \"unemployment\",\n",
    "                      \"stimulus\", \"innovation\", \"artificial\",\"intelligence\", \"robotics\", \"cybersecurity\",\n",
    "                      \"cryptocurrency\", \"climate\",\"change\", \"renewable\",\"energy\", \"sustainability\", \n",
    "                      \"conservation\", \"pollution\", \"pandemic\", \"healthcare\", \"vaccination\", \"disease\", \n",
    "                      \"public\",\"health\", \"pharmaceuticals\", \"diversity\", \"equality\", \"immigration\", \n",
    "                      \"social\",\"justice\", \"human\",\"rights\", \"protest\", \"entrepreneurship\", \"venture\",\"capital\", \n",
    "                      \"merger\", \"acquisition\", \"market\", \"trends\", \"risk\",\"management\"]"
   ]
  },
  {
   "cell_type": "code",
   "execution_count": 107,
   "metadata": {},
   "outputs": [],
   "source": [
    "relevant_headlines = []\n",
    "\n",
    "for index, row in headlines.iterrows():\n",
    "    headline = row['Headline'].lower()  # Convert headline to lowercase for case-insensitive matching\n",
    "    \n",
    "    # Check if any keyword from total_bag_of_words is present in the headline\n",
    "    if any(keyword.lower() in headline for keyword in word):\n",
    "        relevant_headlines.append(row)\n",
    "\n",
    "# Create a new dataframe with relevant headlines\n",
    "relevant_news_df = pd.DataFrame(relevant_headlines)"
   ]
  },
  {
   "cell_type": "code",
   "execution_count": 108,
   "metadata": {},
   "outputs": [
    {
     "data": {
      "text/html": [
       "<div>\n",
       "<style scoped>\n",
       "    .dataframe tbody tr th:only-of-type {\n",
       "        vertical-align: middle;\n",
       "    }\n",
       "\n",
       "    .dataframe tbody tr th {\n",
       "        vertical-align: top;\n",
       "    }\n",
       "\n",
       "    .dataframe thead th {\n",
       "        text-align: right;\n",
       "    }\n",
       "</style>\n",
       "<table border=\"1\" class=\"dataframe\">\n",
       "  <thead>\n",
       "    <tr style=\"text-align: right;\">\n",
       "      <th></th>\n",
       "      <th>Date</th>\n",
       "      <th>Publication</th>\n",
       "      <th>Headline</th>\n",
       "      <th>URL</th>\n",
       "    </tr>\n",
       "  </thead>\n",
       "  <tbody>\n",
       "    <tr>\n",
       "      <th>294215</th>\n",
       "      <td>2008-08-08</td>\n",
       "      <td>New York Times</td>\n",
       "      <td>Georgian and Russian Forces Facing Off in Rebe...</td>\n",
       "      <td>http://www.nytimes.com/2008/08/09/world/europe...</td>\n",
       "    </tr>\n",
       "    <tr>\n",
       "      <th>294222</th>\n",
       "      <td>2008-08-08</td>\n",
       "      <td>New York Times</td>\n",
       "      <td>Clintons at the Convention</td>\n",
       "      <td>http://thecaucus.blogs.nytimes.com/2008/08/08/...</td>\n",
       "    </tr>\n",
       "    <tr>\n",
       "      <th>294224</th>\n",
       "      <td>2008-08-08</td>\n",
       "      <td>New York Times</td>\n",
       "      <td>McCain at the Iowa State Fair</td>\n",
       "      <td>http://thecaucus.blogs.nytimes.com/2008/08/08/...</td>\n",
       "    </tr>\n",
       "    <tr>\n",
       "      <th>294225</th>\n",
       "      <td>2008-08-08</td>\n",
       "      <td>New York Times</td>\n",
       "      <td>Oil Prices Tumble Again; Stock Markets Surge</td>\n",
       "      <td>http://www.nytimes.com/2008/08/09/business/wor...</td>\n",
       "    </tr>\n",
       "    <tr>\n",
       "      <th>294226</th>\n",
       "      <td>2008-08-08</td>\n",
       "      <td>New York Times</td>\n",
       "      <td>Floyd Norris: Another Reason to Think Stocks H...</td>\n",
       "      <td>http://norris.blogs.nytimes.com/2008/08/08/the...</td>\n",
       "    </tr>\n",
       "  </tbody>\n",
       "</table>\n",
       "</div>"
      ],
      "text/plain": [
       "             Date     Publication  \\\n",
       "294215 2008-08-08  New York Times   \n",
       "294222 2008-08-08  New York Times   \n",
       "294224 2008-08-08  New York Times   \n",
       "294225 2008-08-08  New York Times   \n",
       "294226 2008-08-08  New York Times   \n",
       "\n",
       "                                                 Headline  \\\n",
       "294215  Georgian and Russian Forces Facing Off in Rebe...   \n",
       "294222                         Clintons at the Convention   \n",
       "294224                      McCain at the Iowa State Fair   \n",
       "294225       Oil Prices Tumble Again; Stock Markets Surge   \n",
       "294226  Floyd Norris: Another Reason to Think Stocks H...   \n",
       "\n",
       "                                                      URL  \n",
       "294215  http://www.nytimes.com/2008/08/09/world/europe...  \n",
       "294222  http://thecaucus.blogs.nytimes.com/2008/08/08/...  \n",
       "294224  http://thecaucus.blogs.nytimes.com/2008/08/08/...  \n",
       "294225  http://www.nytimes.com/2008/08/09/business/wor...  \n",
       "294226  http://norris.blogs.nytimes.com/2008/08/08/the...  "
      ]
     },
     "execution_count": 108,
     "metadata": {},
     "output_type": "execute_result"
    }
   ],
   "source": [
    "relevant_news_df.head()"
   ]
  },
  {
   "cell_type": "code",
   "execution_count": 109,
   "metadata": {},
   "outputs": [
    {
     "data": {
      "text/plain": [
       "(443670, 4)"
      ]
     },
     "execution_count": 109,
     "metadata": {},
     "output_type": "execute_result"
    }
   ],
   "source": [
    "relevant_news_df.shape"
   ]
  },
  {
   "cell_type": "code",
   "execution_count": 110,
   "metadata": {},
   "outputs": [],
   "source": [
    "# Count the number of words in each headline\n",
    "relevant_news_df['Word_Count'] = relevant_news_df['Headline'].apply(lambda x: len(x.split()))\n",
    "\n",
    "# Filter out rows where the number of words is less than 3\n",
    "relevant_news_df = relevant_news_df[relevant_news_df['Word_Count'] >= 3]\n",
    "\n",
    "# Drop the 'Word_Count' column as it's no longer needed\n",
    "relevant_news_df.drop(columns=['Word_Count'], inplace=True)\n"
   ]
  },
  {
   "cell_type": "code",
   "execution_count": 111,
   "metadata": {},
   "outputs": [
    {
     "data": {
      "text/plain": [
       "(405822, 4)"
      ]
     },
     "execution_count": 111,
     "metadata": {},
     "output_type": "execute_result"
    }
   ],
   "source": [
    "relevant_news_df.shape"
   ]
  },
  {
   "cell_type": "code",
   "execution_count": 112,
   "metadata": {},
   "outputs": [],
   "source": [
    "words=[\"U.S.A\", \"United States\", \"States\", \"America\", \"New York\", \"democratic\", \"liberals\", \n",
    "                      \"trade\", \"United Nations\", \"World Bank\", \"Debt\", \"Borrow\", \"Trump\", \"President\", \n",
    "                      \"Biden\", \"Clinton\", \"Elon Musk\", \"Company\", \"Tesla\", \"Investment\", \"Stocks\", \"Startup\",\n",
    "                      \"oil\", \"Bank\", \"reserve\", \"economy\", \"business\", \"Option\", \"Equity\", \"Funds\", \"Yield\", \"IPO\", \"Returns\",\n",
    "                      \"Profit\",\"Loss\",\"Liquidity\", \"Recession\", \"Inflation\", \"Deflation\", \"Index\", \"ETF\", \"Bond\", \"Shareholder\", \"Liability\",\n",
    "                      \"Asset\",\"Revenue\", \"Dividend\", \"Mutual funds\", \"Interest rates\", \"Portfolio\",\"per capita\",\"Volatility\",\n",
    "                      \"recession\", \"inflation\", \"GDP\", \"stock\",\"market\", \"interest\",\"rate\", \"unemployment\",\n",
    "                      \"cryptocurrency\",\"conservation\", \"pollution\", \"pandemic\", \"immigration\", \"protest\", \"entrepreneurship\", \"venture\",\"capital\", \n",
    "                      \"merger\", \"acquisition\", \"market\", \"trends\", \"risk\",\"management\"]"
   ]
  },
  {
   "cell_type": "code",
   "execution_count": 113,
   "metadata": {},
   "outputs": [
    {
     "data": {
      "text/html": [
       "<div>\n",
       "<style scoped>\n",
       "    .dataframe tbody tr th:only-of-type {\n",
       "        vertical-align: middle;\n",
       "    }\n",
       "\n",
       "    .dataframe tbody tr th {\n",
       "        vertical-align: top;\n",
       "    }\n",
       "\n",
       "    .dataframe thead th {\n",
       "        text-align: right;\n",
       "    }\n",
       "</style>\n",
       "<table border=\"1\" class=\"dataframe\">\n",
       "  <thead>\n",
       "    <tr style=\"text-align: right;\">\n",
       "      <th></th>\n",
       "      <th>Date</th>\n",
       "      <th>Publication</th>\n",
       "      <th>Headline</th>\n",
       "      <th>URL</th>\n",
       "    </tr>\n",
       "  </thead>\n",
       "  <tbody>\n",
       "    <tr>\n",
       "      <th>0</th>\n",
       "      <td>2008-08-08</td>\n",
       "      <td>New York Times</td>\n",
       "      <td>Georgian and Russian Forces Facing Off in Rebe...</td>\n",
       "      <td>http://www.nytimes.com/2008/08/09/world/europe...</td>\n",
       "    </tr>\n",
       "    <tr>\n",
       "      <th>1</th>\n",
       "      <td>2008-08-08</td>\n",
       "      <td>New York Times</td>\n",
       "      <td>Clintons at the Convention</td>\n",
       "      <td>http://thecaucus.blogs.nytimes.com/2008/08/08/...</td>\n",
       "    </tr>\n",
       "    <tr>\n",
       "      <th>2</th>\n",
       "      <td>2008-08-08</td>\n",
       "      <td>New York Times</td>\n",
       "      <td>McCain at the Iowa State Fair</td>\n",
       "      <td>http://thecaucus.blogs.nytimes.com/2008/08/08/...</td>\n",
       "    </tr>\n",
       "    <tr>\n",
       "      <th>3</th>\n",
       "      <td>2008-08-08</td>\n",
       "      <td>New York Times</td>\n",
       "      <td>Oil Prices Tumble Again; Stock Markets Surge</td>\n",
       "      <td>http://www.nytimes.com/2008/08/09/business/wor...</td>\n",
       "    </tr>\n",
       "    <tr>\n",
       "      <th>4</th>\n",
       "      <td>2008-08-08</td>\n",
       "      <td>New York Times</td>\n",
       "      <td>Floyd Norris: Another Reason to Think Stocks H...</td>\n",
       "      <td>http://norris.blogs.nytimes.com/2008/08/08/the...</td>\n",
       "    </tr>\n",
       "  </tbody>\n",
       "</table>\n",
       "</div>"
      ],
      "text/plain": [
       "         Date     Publication  \\\n",
       "0  2008-08-08  New York Times   \n",
       "1  2008-08-08  New York Times   \n",
       "2  2008-08-08  New York Times   \n",
       "3  2008-08-08  New York Times   \n",
       "4  2008-08-08  New York Times   \n",
       "\n",
       "                                            Headline  \\\n",
       "0  Georgian and Russian Forces Facing Off in Rebe...   \n",
       "1                         Clintons at the Convention   \n",
       "2                      McCain at the Iowa State Fair   \n",
       "3       Oil Prices Tumble Again; Stock Markets Surge   \n",
       "4  Floyd Norris: Another Reason to Think Stocks H...   \n",
       "\n",
       "                                                 URL  \n",
       "0  http://www.nytimes.com/2008/08/09/world/europe...  \n",
       "1  http://thecaucus.blogs.nytimes.com/2008/08/08/...  \n",
       "2  http://thecaucus.blogs.nytimes.com/2008/08/08/...  \n",
       "3  http://www.nytimes.com/2008/08/09/business/wor...  \n",
       "4  http://norris.blogs.nytimes.com/2008/08/08/the...  "
      ]
     },
     "execution_count": 113,
     "metadata": {},
     "output_type": "execute_result"
    }
   ],
   "source": [
    "df= pd.read_csv(\"output.csv\")\n",
    "df.head()"
   ]
  },
  {
   "cell_type": "code",
   "execution_count": 114,
   "metadata": {},
   "outputs": [],
   "source": [
    "contractions = { \n",
    "\"ain't\": \"am not\",\n",
    "\"aren't\": \"are not\",\n",
    "\"can't\": \"cannot\",\n",
    "\"can't've\": \"cannot have\",\n",
    "\"'cause\": \"because\",\n",
    "\"could've\": \"could have\",\n",
    "\"couldn't\": \"could not\",\n",
    "\"couldn't've\": \"could not have\",\n",
    "\"didn't\": \"did not\",\n",
    "\"doesn't\": \"does not\",\n",
    "\"don't\": \"do not\",\n",
    "\"hadn't\": \"had not\",\n",
    "\"hadn't've\": \"had not have\",\n",
    "\"hasn't\": \"has not\",\n",
    "\"haven't\": \"have not\",\n",
    "\"he'd\": \"he would\",\n",
    "\"he'd've\": \"he would have\",\n",
    "\"he'll\": \"he will\",\n",
    "\"he's\": \"he is\",\n",
    "\"how'd\": \"how did\",\n",
    "\"how'll\": \"how will\",\n",
    "\"how's\": \"how is\",\n",
    "\"i'd\": \"i would\",\n",
    "\"i'll\": \"i will\",\n",
    "\"i'm\": \"i am\",\n",
    "\"i've\": \"i have\",\n",
    "\"isn't\": \"is not\",\n",
    "\"it'd\": \"it would\",\n",
    "\"it'll\": \"it will\",\n",
    "\"it's\": \"it is\",\n",
    "\"let's\": \"let us\",\n",
    "\"ma'am\": \"madam\",\n",
    "\"mayn't\": \"may not\",\n",
    "\"might've\": \"might have\",\n",
    "\"mightn't\": \"might not\",\n",
    "\"must've\": \"must have\",\n",
    "\"mustn't\": \"must not\",\n",
    "\"needn't\": \"need not\",\n",
    "\"oughtn't\": \"ought not\",\n",
    "\"shan't\": \"shall not\",\n",
    "\"sha'n't\": \"shall not\",\n",
    "\"she'd\": \"she would\",\n",
    "\"she'll\": \"she will\",\n",
    "\"she's\": \"she is\",\n",
    "\"should've\": \"should have\",\n",
    "\"shouldn't\": \"should not\",\n",
    "\"that'd\": \"that would\",\n",
    "\"that's\": \"that is\",\n",
    "\"there'd\": \"there had\",\n",
    "\"there's\": \"there is\",\n",
    "\"they'd\": \"they would\",\n",
    "\"they'll\": \"they will\",\n",
    "\"they're\": \"they are\",\n",
    "\"they've\": \"they have\",\n",
    "\"wasn't\": \"was not\",\n",
    "\"we'd\": \"we would\",\n",
    "\"we'll\": \"we will\",\n",
    "\"we're\": \"we are\",\n",
    "\"we've\": \"we have\",\n",
    "\"weren't\": \"were not\",\n",
    "\"what'll\": \"what will\",\n",
    "\"what're\": \"what are\",\n",
    "\"what's\": \"what is\",\n",
    "\"what've\": \"what have\",\n",
    "\"where'd\": \"where did\",\n",
    "\"where's\": \"where is\",\n",
    "\"who'll\": \"who will\",\n",
    "\"who's\": \"who is\",\n",
    "\"won't\": \"will not\",\n",
    "\"wouldn't\": \"would not\",\n",
    "\"you'd\": \"you would\",\n",
    "\"you'll\": \"you will\",\n",
    "\"you're\": \"you are\"\n",
    "}"
   ]
  },
  {
   "cell_type": "code",
   "execution_count": 119,
   "metadata": {},
   "outputs": [
    {
     "name": "stderr",
     "output_type": "stream",
     "text": [
      "[nltk_data] Downloading package stopwords to\n",
      "[nltk_data]     C:\\Users\\HP\\AppData\\Roaming\\nltk_data...\n",
      "[nltk_data]   Package stopwords is already up-to-date!\n"
     ]
    }
   ],
   "source": [
    "import re\n",
    "from nltk.corpus import stopwords\n",
    "nltk.download('stopwords')\n",
    "\n",
    "def clean_text(text, should_remove_stopwords=True):\n",
    "    # Convert words to lowercase\n",
    "    text = text.lower()\n",
    "\n",
    "    # Replace contractions with their longer forms \n",
    "    if True:\n",
    "        text = text.split()\n",
    "        new_text = []\n",
    "        for word in text:\n",
    "            if word in contractions:\n",
    "                new_text.append(contractions[word])\n",
    "            else:\n",
    "                new_text.append(word)\n",
    "        text = \" \".join(new_text)\n",
    "\n",
    "    # Format words and remove unwanted characters\n",
    "    text = re.sub(r'&amp;', '', text) \n",
    "    text = re.sub(r'0,0', '00', text) \n",
    "    text = re.sub(r'[_\"\\-;%()|.,+&=*%.,!?:#@\\[\\]]', ' ', text)\n",
    "    text = re.sub(r'\\'', ' ', text)\n",
    "    text = re.sub(r'\\$', ' $ ', text)\n",
    "    text = re.sub(r'u s ', ' united states ', text)\n",
    "    text = re.sub(r'u n ', ' united nations ', text)\n",
    "    text = re.sub(r'u k ', ' united kingdom ', text)\n",
    "    text = re.sub(r' yr ', ' year ', text)\n",
    "    text = re.sub(r' l g b t ', ' lgbt ', text)\n",
    "    text = re.sub(r'0km ', '0 km ', text)\n",
    "    \n",
    "    # Remove stopwords if specified\n",
    "    if should_remove_stopwords:\n",
    "        text = remove_stopwords(text)\n",
    "    \n",
    "    return text\n",
    "\n",
    "def remove_stopwords(text, remove_prepositions=True):\n",
    "    text = text.split()\n",
    "    stops = set(stopwords.words(\"english\"))\n",
    "    \n",
    "    # Optionally remove prepositions from the set of stopwords\n",
    "    if remove_prepositions:\n",
    "        prepositions = {'about', 'above', 'across', 'after', 'against', 'among', 'around', 'at', 'before', 'behind', 'below', 'beneath', 'beside', 'between', 'beyond', 'but', 'by', 'despite', 'down', 'during', 'except', 'for', 'from', 'in', 'inside', 'into', 'like', 'near', 'of', 'off', 'on', 'onto', 'out', 'outside', 'over', 'past', 'since', 'through', 'throughout', 'to', 'toward', 'under', 'until', 'up', 'upon', 'with', 'within', 'without'}\n",
    "        stops -= prepositions\n",
    "    \n",
    "    text = [w for w in text if not w in stops]\n",
    "    text = \" \".join(text)\n",
    "    return text\n",
    "\n",
    "df['Cleaned_News'] = df['Headline'].apply(clean_text)"
   ]
  },
  {
   "cell_type": "code",
   "execution_count": 120,
   "metadata": {},
   "outputs": [
    {
     "data": {
      "text/html": [
       "<div>\n",
       "<style scoped>\n",
       "    .dataframe tbody tr th:only-of-type {\n",
       "        vertical-align: middle;\n",
       "    }\n",
       "\n",
       "    .dataframe tbody tr th {\n",
       "        vertical-align: top;\n",
       "    }\n",
       "\n",
       "    .dataframe thead th {\n",
       "        text-align: right;\n",
       "    }\n",
       "</style>\n",
       "<table border=\"1\" class=\"dataframe\">\n",
       "  <thead>\n",
       "    <tr style=\"text-align: right;\">\n",
       "      <th></th>\n",
       "      <th>Date</th>\n",
       "      <th>Publication</th>\n",
       "      <th>Headline</th>\n",
       "      <th>URL</th>\n",
       "      <th>Cleaned_News</th>\n",
       "    </tr>\n",
       "  </thead>\n",
       "  <tbody>\n",
       "    <tr>\n",
       "      <th>0</th>\n",
       "      <td>2008-08-08</td>\n",
       "      <td>New York Times</td>\n",
       "      <td>Georgian and Russian Forces Facing Off in Rebe...</td>\n",
       "      <td>http://www.nytimes.com/2008/08/09/world/europe...</td>\n",
       "      <td>georgian russian forces facing off in rebel pr...</td>\n",
       "    </tr>\n",
       "    <tr>\n",
       "      <th>1</th>\n",
       "      <td>2008-08-08</td>\n",
       "      <td>New York Times</td>\n",
       "      <td>Clintons at the Convention</td>\n",
       "      <td>http://thecaucus.blogs.nytimes.com/2008/08/08/...</td>\n",
       "      <td>clintons at convention</td>\n",
       "    </tr>\n",
       "    <tr>\n",
       "      <th>2</th>\n",
       "      <td>2008-08-08</td>\n",
       "      <td>New York Times</td>\n",
       "      <td>McCain at the Iowa State Fair</td>\n",
       "      <td>http://thecaucus.blogs.nytimes.com/2008/08/08/...</td>\n",
       "      <td>mccain at iowa state fair</td>\n",
       "    </tr>\n",
       "    <tr>\n",
       "      <th>3</th>\n",
       "      <td>2008-08-08</td>\n",
       "      <td>New York Times</td>\n",
       "      <td>Oil Prices Tumble Again; Stock Markets Surge</td>\n",
       "      <td>http://www.nytimes.com/2008/08/09/business/wor...</td>\n",
       "      <td>oil prices tumble stock markets surge</td>\n",
       "    </tr>\n",
       "    <tr>\n",
       "      <th>4</th>\n",
       "      <td>2008-08-08</td>\n",
       "      <td>New York Times</td>\n",
       "      <td>Floyd Norris: Another Reason to Think Stocks H...</td>\n",
       "      <td>http://norris.blogs.nytimes.com/2008/08/08/the...</td>\n",
       "      <td>floyd norris another reason to think stocks bo...</td>\n",
       "    </tr>\n",
       "  </tbody>\n",
       "</table>\n",
       "</div>"
      ],
      "text/plain": [
       "         Date     Publication  \\\n",
       "0  2008-08-08  New York Times   \n",
       "1  2008-08-08  New York Times   \n",
       "2  2008-08-08  New York Times   \n",
       "3  2008-08-08  New York Times   \n",
       "4  2008-08-08  New York Times   \n",
       "\n",
       "                                            Headline  \\\n",
       "0  Georgian and Russian Forces Facing Off in Rebe...   \n",
       "1                         Clintons at the Convention   \n",
       "2                      McCain at the Iowa State Fair   \n",
       "3       Oil Prices Tumble Again; Stock Markets Surge   \n",
       "4  Floyd Norris: Another Reason to Think Stocks H...   \n",
       "\n",
       "                                                 URL  \\\n",
       "0  http://www.nytimes.com/2008/08/09/world/europe...   \n",
       "1  http://thecaucus.blogs.nytimes.com/2008/08/08/...   \n",
       "2  http://thecaucus.blogs.nytimes.com/2008/08/08/...   \n",
       "3  http://www.nytimes.com/2008/08/09/business/wor...   \n",
       "4  http://norris.blogs.nytimes.com/2008/08/08/the...   \n",
       "\n",
       "                                        Cleaned_News  \n",
       "0  georgian russian forces facing off in rebel pr...  \n",
       "1                             clintons at convention  \n",
       "2                          mccain at iowa state fair  \n",
       "3              oil prices tumble stock markets surge  \n",
       "4  floyd norris another reason to think stocks bo...  "
      ]
     },
     "execution_count": 120,
     "metadata": {},
     "output_type": "execute_result"
    }
   ],
   "source": [
    "df.head()"
   ]
  },
  {
   "cell_type": "code",
   "execution_count": 121,
   "metadata": {},
   "outputs": [
    {
     "name": "stderr",
     "output_type": "stream",
     "text": [
      "C:\\Users\\HP\\AppData\\Local\\Temp\\ipykernel_2044\\3701568331.py:7: SettingWithCopyWarning: \n",
      "A value is trying to be set on a copy of a slice from a DataFrame\n",
      "\n",
      "See the caveats in the documentation: https://pandas.pydata.org/pandas-docs/stable/user_guide/indexing.html#returning-a-view-versus-a-copy\n",
      "  df.drop(columns=['Word_Count'], inplace=True)\n"
     ]
    }
   ],
   "source": [
    "df['Word_Count'] = df['Cleaned_News'].apply(lambda x: len(x.split()))\n",
    "\n",
    "# Filter out rows where the number of words is less than 3\n",
    "df = df[df['Word_Count'] >= 3]\n",
    "\n",
    "# Drop the 'Word_Count' column as it's no longer needed\n",
    "df.drop(columns=['Word_Count'], inplace=True)"
   ]
  },
  {
   "cell_type": "code",
   "execution_count": 122,
   "metadata": {},
   "outputs": [
    {
     "data": {
      "text/html": [
       "<div>\n",
       "<style scoped>\n",
       "    .dataframe tbody tr th:only-of-type {\n",
       "        vertical-align: middle;\n",
       "    }\n",
       "\n",
       "    .dataframe tbody tr th {\n",
       "        vertical-align: top;\n",
       "    }\n",
       "\n",
       "    .dataframe thead th {\n",
       "        text-align: right;\n",
       "    }\n",
       "</style>\n",
       "<table border=\"1\" class=\"dataframe\">\n",
       "  <thead>\n",
       "    <tr style=\"text-align: right;\">\n",
       "      <th></th>\n",
       "      <th>Date</th>\n",
       "      <th>Publication</th>\n",
       "      <th>Headline</th>\n",
       "      <th>URL</th>\n",
       "      <th>Cleaned_News</th>\n",
       "    </tr>\n",
       "  </thead>\n",
       "  <tbody>\n",
       "    <tr>\n",
       "      <th>0</th>\n",
       "      <td>2008-08-08</td>\n",
       "      <td>New York Times</td>\n",
       "      <td>Georgian and Russian Forces Facing Off in Rebe...</td>\n",
       "      <td>http://www.nytimes.com/2008/08/09/world/europe...</td>\n",
       "      <td>georgian russian forces facing off in rebel pr...</td>\n",
       "    </tr>\n",
       "    <tr>\n",
       "      <th>1</th>\n",
       "      <td>2008-08-08</td>\n",
       "      <td>New York Times</td>\n",
       "      <td>Clintons at the Convention</td>\n",
       "      <td>http://thecaucus.blogs.nytimes.com/2008/08/08/...</td>\n",
       "      <td>clintons at convention</td>\n",
       "    </tr>\n",
       "    <tr>\n",
       "      <th>2</th>\n",
       "      <td>2008-08-08</td>\n",
       "      <td>New York Times</td>\n",
       "      <td>McCain at the Iowa State Fair</td>\n",
       "      <td>http://thecaucus.blogs.nytimes.com/2008/08/08/...</td>\n",
       "      <td>mccain at iowa state fair</td>\n",
       "    </tr>\n",
       "    <tr>\n",
       "      <th>3</th>\n",
       "      <td>2008-08-08</td>\n",
       "      <td>New York Times</td>\n",
       "      <td>Oil Prices Tumble Again; Stock Markets Surge</td>\n",
       "      <td>http://www.nytimes.com/2008/08/09/business/wor...</td>\n",
       "      <td>oil prices tumble stock markets surge</td>\n",
       "    </tr>\n",
       "    <tr>\n",
       "      <th>4</th>\n",
       "      <td>2008-08-08</td>\n",
       "      <td>New York Times</td>\n",
       "      <td>Floyd Norris: Another Reason to Think Stocks H...</td>\n",
       "      <td>http://norris.blogs.nytimes.com/2008/08/08/the...</td>\n",
       "      <td>floyd norris another reason to think stocks bo...</td>\n",
       "    </tr>\n",
       "  </tbody>\n",
       "</table>\n",
       "</div>"
      ],
      "text/plain": [
       "         Date     Publication  \\\n",
       "0  2008-08-08  New York Times   \n",
       "1  2008-08-08  New York Times   \n",
       "2  2008-08-08  New York Times   \n",
       "3  2008-08-08  New York Times   \n",
       "4  2008-08-08  New York Times   \n",
       "\n",
       "                                            Headline  \\\n",
       "0  Georgian and Russian Forces Facing Off in Rebe...   \n",
       "1                         Clintons at the Convention   \n",
       "2                      McCain at the Iowa State Fair   \n",
       "3       Oil Prices Tumble Again; Stock Markets Surge   \n",
       "4  Floyd Norris: Another Reason to Think Stocks H...   \n",
       "\n",
       "                                                 URL  \\\n",
       "0  http://www.nytimes.com/2008/08/09/world/europe...   \n",
       "1  http://thecaucus.blogs.nytimes.com/2008/08/08/...   \n",
       "2  http://thecaucus.blogs.nytimes.com/2008/08/08/...   \n",
       "3  http://www.nytimes.com/2008/08/09/business/wor...   \n",
       "4  http://norris.blogs.nytimes.com/2008/08/08/the...   \n",
       "\n",
       "                                        Cleaned_News  \n",
       "0  georgian russian forces facing off in rebel pr...  \n",
       "1                             clintons at convention  \n",
       "2                          mccain at iowa state fair  \n",
       "3              oil prices tumble stock markets surge  \n",
       "4  floyd norris another reason to think stocks bo...  "
      ]
     },
     "execution_count": 122,
     "metadata": {},
     "output_type": "execute_result"
    }
   ],
   "source": [
    "df.head()"
   ]
  },
  {
   "cell_type": "code",
   "execution_count": 123,
   "metadata": {},
   "outputs": [
    {
     "data": {
      "text/plain": [
       "(402210, 5)"
      ]
     },
     "execution_count": 123,
     "metadata": {},
     "output_type": "execute_result"
    }
   ],
   "source": [
    "df.shape"
   ]
  },
  {
   "cell_type": "markdown",
   "metadata": {},
   "source": [
    "make a single rows for unique date columns "
   ]
  },
  {
   "cell_type": "code",
   "execution_count": 124,
   "metadata": {},
   "outputs": [
    {
     "name": "stderr",
     "output_type": "stream",
     "text": [
      "C:\\Users\\HP\\AppData\\Local\\Temp\\ipykernel_2044\\3023303512.py:5: SettingWithCopyWarning: \n",
      "A value is trying to be set on a copy of a slice from a DataFrame.\n",
      "Try using .loc[row_indexer,col_indexer] = value instead\n",
      "\n",
      "See the caveats in the documentation: https://pandas.pydata.org/pandas-docs/stable/user_guide/indexing.html#returning-a-view-versus-a-copy\n",
      "  df['Source'] = df['URL'].apply(lambda url: next((word for word in financial_sources_keywords if word in url), None))\n"
     ]
    },
    {
     "data": {
      "text/html": [
       "<div>\n",
       "<style scoped>\n",
       "    .dataframe tbody tr th:only-of-type {\n",
       "        vertical-align: middle;\n",
       "    }\n",
       "\n",
       "    .dataframe tbody tr th {\n",
       "        vertical-align: top;\n",
       "    }\n",
       "\n",
       "    .dataframe thead th {\n",
       "        text-align: right;\n",
       "    }\n",
       "</style>\n",
       "<table border=\"1\" class=\"dataframe\">\n",
       "  <thead>\n",
       "    <tr style=\"text-align: right;\">\n",
       "      <th></th>\n",
       "      <th>Date</th>\n",
       "      <th>Publication</th>\n",
       "      <th>Headline</th>\n",
       "      <th>URL</th>\n",
       "      <th>Cleaned_News</th>\n",
       "      <th>Source</th>\n",
       "    </tr>\n",
       "  </thead>\n",
       "  <tbody>\n",
       "    <tr>\n",
       "      <th>3</th>\n",
       "      <td>2008-08-08</td>\n",
       "      <td>New York Times</td>\n",
       "      <td>Oil Prices Tumble Again; Stock Markets Surge</td>\n",
       "      <td>http://www.nytimes.com/2008/08/09/business/wor...</td>\n",
       "      <td>oil prices tumble stock markets surge</td>\n",
       "      <td>business</td>\n",
       "    </tr>\n",
       "    <tr>\n",
       "      <th>17</th>\n",
       "      <td>2008-08-08</td>\n",
       "      <td>CNN</td>\n",
       "      <td>Stocks end the week with a bang</td>\n",
       "      <td>http://money.cnn.com/2008/08/08/markets/market...</td>\n",
       "      <td>stocks end week with bang</td>\n",
       "      <td>money</td>\n",
       "    </tr>\n",
       "    <tr>\n",
       "      <th>31</th>\n",
       "      <td>2008-08-08</td>\n",
       "      <td>Washington Post</td>\n",
       "      <td>Panel Calls for New Risk Standards</td>\n",
       "      <td>http://www.washingtonpost.com/wp-dyn/content/a...</td>\n",
       "      <td>panel calls for new risk standards</td>\n",
       "      <td>business</td>\n",
       "    </tr>\n",
       "    <tr>\n",
       "      <th>89</th>\n",
       "      <td>2008-08-09</td>\n",
       "      <td>CNN</td>\n",
       "      <td>The new math of lending</td>\n",
       "      <td>http://money.cnn.com/2008/08/07/news/companies...</td>\n",
       "      <td>new math of lending</td>\n",
       "      <td>money</td>\n",
       "    </tr>\n",
       "    <tr>\n",
       "      <th>90</th>\n",
       "      <td>2008-08-09</td>\n",
       "      <td>CNN</td>\n",
       "      <td>Stocks end the week with a bang</td>\n",
       "      <td>http://money.cnn.com/2008/08/08/markets/market...</td>\n",
       "      <td>stocks end week with bang</td>\n",
       "      <td>money</td>\n",
       "    </tr>\n",
       "  </tbody>\n",
       "</table>\n",
       "</div>"
      ],
      "text/plain": [
       "          Date      Publication                                      Headline  \\\n",
       "3   2008-08-08   New York Times  Oil Prices Tumble Again; Stock Markets Surge   \n",
       "17  2008-08-08              CNN               Stocks end the week with a bang   \n",
       "31  2008-08-08  Washington Post            Panel Calls for New Risk Standards   \n",
       "89  2008-08-09              CNN                       The new math of lending   \n",
       "90  2008-08-09              CNN               Stocks end the week with a bang   \n",
       "\n",
       "                                                  URL  \\\n",
       "3   http://www.nytimes.com/2008/08/09/business/wor...   \n",
       "17  http://money.cnn.com/2008/08/08/markets/market...   \n",
       "31  http://www.washingtonpost.com/wp-dyn/content/a...   \n",
       "89  http://money.cnn.com/2008/08/07/news/companies...   \n",
       "90  http://money.cnn.com/2008/08/08/markets/market...   \n",
       "\n",
       "                             Cleaned_News    Source  \n",
       "3   oil prices tumble stock markets surge  business  \n",
       "17              stocks end week with bang     money  \n",
       "31     panel calls for new risk standards  business  \n",
       "89                    new math of lending     money  \n",
       "90              stocks end week with bang     money  "
      ]
     },
     "execution_count": 124,
     "metadata": {},
     "output_type": "execute_result"
    }
   ],
   "source": [
    "\n",
    "# Filter headlines based on URLs containing keywords related to financial news sources\n",
    "financial_sources_keywords = ['money', 'business', 'finance', 'economy', 'market', 'stock']\n",
    "\n",
    "# Extract source keywords from URLs\n",
    "df['Source'] = df['URL'].apply(lambda url: next((word for word in financial_sources_keywords if word in url), None))\n",
    "\n",
    "# Filter headlines with financial sources keywords\n",
    "financial_news = df[df['Source'].notnull()]\n",
    "\n",
    "# Display the filtered financial news\n",
    "financial_news.head()\n"
   ]
  },
  {
   "cell_type": "markdown",
   "metadata": {},
   "source": [
    "now merge cleaned_news by date"
   ]
  },
  {
   "cell_type": "code",
   "execution_count": 131,
   "metadata": {},
   "outputs": [
    {
     "data": {
      "text/html": [
       "<div>\n",
       "<style scoped>\n",
       "    .dataframe tbody tr th:only-of-type {\n",
       "        vertical-align: middle;\n",
       "    }\n",
       "\n",
       "    .dataframe tbody tr th {\n",
       "        vertical-align: top;\n",
       "    }\n",
       "\n",
       "    .dataframe thead th {\n",
       "        text-align: right;\n",
       "    }\n",
       "</style>\n",
       "<table border=\"1\" class=\"dataframe\">\n",
       "  <thead>\n",
       "    <tr style=\"text-align: right;\">\n",
       "      <th></th>\n",
       "      <th>Date</th>\n",
       "      <th>Stocks_news_of_the_day</th>\n",
       "      <th>Publication</th>\n",
       "      <th>Headline</th>\n",
       "      <th>URL</th>\n",
       "      <th>Source</th>\n",
       "    </tr>\n",
       "  </thead>\n",
       "  <tbody>\n",
       "    <tr>\n",
       "      <th>0</th>\n",
       "      <td>2008-08-08</td>\n",
       "      <td>\"oil prices tumble stock markets surge\"; \"stoc...</td>\n",
       "      <td>New York Times</td>\n",
       "      <td>Oil Prices Tumble Again; Stock Markets Surge; ...</td>\n",
       "      <td>http://www.nytimes.com/2008/08/09/business/wor...</td>\n",
       "      <td>business</td>\n",
       "    </tr>\n",
       "    <tr>\n",
       "      <th>1</th>\n",
       "      <td>2008-08-09</td>\n",
       "      <td>\"new math of lending\"; \"stocks end week with b...</td>\n",
       "      <td>CNN</td>\n",
       "      <td>The new math of lending; Stocks end the week w...</td>\n",
       "      <td>http://money.cnn.com/2008/08/07/news/companies...</td>\n",
       "      <td>money</td>\n",
       "    </tr>\n",
       "    <tr>\n",
       "      <th>2</th>\n",
       "      <td>2008-08-10</td>\n",
       "      <td>\"media equation of us arbiters of news\"; \"june...</td>\n",
       "      <td>New York Times</td>\n",
       "      <td>The Media Equation: All of Us, the Arbiters of...</td>\n",
       "      <td>http://www.nytimes.com/2008/08/11/business/med...</td>\n",
       "      <td>business</td>\n",
       "    </tr>\n",
       "    <tr>\n",
       "      <th>3</th>\n",
       "      <td>2008-08-11</td>\n",
       "      <td>\"giant retailers look to sun for energy saving...</td>\n",
       "      <td>New York Times</td>\n",
       "      <td>Giant Retailers Look to Sun for Energy Savings...</td>\n",
       "      <td>http://www.nytimes.com/2008/08/11/business/11s...</td>\n",
       "      <td>business</td>\n",
       "    </tr>\n",
       "    <tr>\n",
       "      <th>4</th>\n",
       "      <td>2008-08-12</td>\n",
       "      <td>\"cost cutting in new york boom in india\"; \"sec...</td>\n",
       "      <td>New York Times</td>\n",
       "      <td>Cost-Cutting in New York, a Boom in India; Sec...</td>\n",
       "      <td>http://www.nytimes.com/2008/08/12/business/wor...</td>\n",
       "      <td>business</td>\n",
       "    </tr>\n",
       "  </tbody>\n",
       "</table>\n",
       "</div>"
      ],
      "text/plain": [
       "         Date                             Stocks_news_of_the_day  \\\n",
       "0  2008-08-08  \"oil prices tumble stock markets surge\"; \"stoc...   \n",
       "1  2008-08-09  \"new math of lending\"; \"stocks end week with b...   \n",
       "2  2008-08-10  \"media equation of us arbiters of news\"; \"june...   \n",
       "3  2008-08-11  \"giant retailers look to sun for energy saving...   \n",
       "4  2008-08-12  \"cost cutting in new york boom in india\"; \"sec...   \n",
       "\n",
       "      Publication                                           Headline  \\\n",
       "0  New York Times  Oil Prices Tumble Again; Stock Markets Surge; ...   \n",
       "1             CNN  The new math of lending; Stocks end the week w...   \n",
       "2  New York Times  The Media Equation: All of Us, the Arbiters of...   \n",
       "3  New York Times  Giant Retailers Look to Sun for Energy Savings...   \n",
       "4  New York Times  Cost-Cutting in New York, a Boom in India; Sec...   \n",
       "\n",
       "                                                 URL    Source  \n",
       "0  http://www.nytimes.com/2008/08/09/business/wor...  business  \n",
       "1  http://money.cnn.com/2008/08/07/news/companies...     money  \n",
       "2  http://www.nytimes.com/2008/08/11/business/med...  business  \n",
       "3  http://www.nytimes.com/2008/08/11/business/11s...  business  \n",
       "4  http://www.nytimes.com/2008/08/12/business/wor...  business  "
      ]
     },
     "execution_count": 131,
     "metadata": {},
     "output_type": "execute_result"
    }
   ],
   "source": [
    "# Group by date and aggregate the headlines into a single string\n",
    "day_wise_news = financial_news.groupby('Date')['Cleaned_News'].apply(lambda x: '; '.join(['\"' + headline + '\"' for headline in x])).reset_index()\n",
    "\n",
    "# Aggregate other columns\n",
    "other_columns = financial_news.groupby('Date').agg({\n",
    "    'Publication': 'first',\n",
    "    'Headline': lambda x: '; '.join(x),\n",
    "    'URL': 'first',\n",
    "    'Source': 'first'\n",
    "}).reset_index()\n",
    "\n",
    "# Merge the aggregated news headlines with the other columns\n",
    "day_wise_news = pd.merge(day_wise_news, other_columns, on='Date')\n",
    "\n",
    "# Rename the column to 'Stocks_news_of_the_day'\n",
    "day_wise_news.rename(columns={'Cleaned_News': 'Stocks_news_of_the_day'}, inplace=True)\n",
    "\n",
    "# Display the resulting DataFrame\n",
    "day_wise_news.head()\n"
   ]
  },
  {
   "cell_type": "code",
   "execution_count": 133,
   "metadata": {},
   "outputs": [
    {
     "data": {
      "text/plain": [
       "(2873, 6)"
      ]
     },
     "execution_count": 133,
     "metadata": {},
     "output_type": "execute_result"
    }
   ],
   "source": [
    "day_wise_news.shape"
   ]
  },
  {
   "cell_type": "code",
   "execution_count": null,
   "metadata": {},
   "outputs": [],
   "source": [
    "day_wise_news.drop(columns=[\"Headline\"], inplace=True)\n",
    "# saved as a csv called day_wise_news_cleaned.csv"
   ]
  },
  {
   "cell_type": "code",
   "execution_count": 137,
   "metadata": {},
   "outputs": [
    {
     "data": {
      "text/html": [
       "<div>\n",
       "<style scoped>\n",
       "    .dataframe tbody tr th:only-of-type {\n",
       "        vertical-align: middle;\n",
       "    }\n",
       "\n",
       "    .dataframe tbody tr th {\n",
       "        vertical-align: top;\n",
       "    }\n",
       "\n",
       "    .dataframe thead th {\n",
       "        text-align: right;\n",
       "    }\n",
       "</style>\n",
       "<table border=\"1\" class=\"dataframe\">\n",
       "  <thead>\n",
       "    <tr style=\"text-align: right;\">\n",
       "      <th></th>\n",
       "      <th>Date</th>\n",
       "      <th>Open</th>\n",
       "      <th>High</th>\n",
       "      <th>Low</th>\n",
       "      <th>Close</th>\n",
       "      <th>Volume</th>\n",
       "      <th>Adj Close</th>\n",
       "    </tr>\n",
       "  </thead>\n",
       "  <tbody>\n",
       "    <tr>\n",
       "      <th>0</th>\n",
       "      <td>2016-07-01</td>\n",
       "      <td>17924.240234</td>\n",
       "      <td>18002.380859</td>\n",
       "      <td>17916.910156</td>\n",
       "      <td>17949.369141</td>\n",
       "      <td>82160000</td>\n",
       "      <td>17949.369141</td>\n",
       "    </tr>\n",
       "    <tr>\n",
       "      <th>1</th>\n",
       "      <td>2016-06-30</td>\n",
       "      <td>17712.759766</td>\n",
       "      <td>17930.609375</td>\n",
       "      <td>17711.800781</td>\n",
       "      <td>17929.990234</td>\n",
       "      <td>133030000</td>\n",
       "      <td>17929.990234</td>\n",
       "    </tr>\n",
       "    <tr>\n",
       "      <th>2</th>\n",
       "      <td>2016-06-29</td>\n",
       "      <td>17456.019531</td>\n",
       "      <td>17704.509766</td>\n",
       "      <td>17456.019531</td>\n",
       "      <td>17694.679688</td>\n",
       "      <td>106380000</td>\n",
       "      <td>17694.679688</td>\n",
       "    </tr>\n",
       "    <tr>\n",
       "      <th>3</th>\n",
       "      <td>2016-06-28</td>\n",
       "      <td>17190.509766</td>\n",
       "      <td>17409.720703</td>\n",
       "      <td>17190.509766</td>\n",
       "      <td>17409.720703</td>\n",
       "      <td>112190000</td>\n",
       "      <td>17409.720703</td>\n",
       "    </tr>\n",
       "    <tr>\n",
       "      <th>4</th>\n",
       "      <td>2016-06-27</td>\n",
       "      <td>17355.210938</td>\n",
       "      <td>17355.210938</td>\n",
       "      <td>17063.080078</td>\n",
       "      <td>17140.240234</td>\n",
       "      <td>138740000</td>\n",
       "      <td>17140.240234</td>\n",
       "    </tr>\n",
       "  </tbody>\n",
       "</table>\n",
       "</div>"
      ],
      "text/plain": [
       "         Date          Open          High           Low         Close  \\\n",
       "0  2016-07-01  17924.240234  18002.380859  17916.910156  17949.369141   \n",
       "1  2016-06-30  17712.759766  17930.609375  17711.800781  17929.990234   \n",
       "2  2016-06-29  17456.019531  17704.509766  17456.019531  17694.679688   \n",
       "3  2016-06-28  17190.509766  17409.720703  17190.509766  17409.720703   \n",
       "4  2016-06-27  17355.210938  17355.210938  17063.080078  17140.240234   \n",
       "\n",
       "      Volume     Adj Close  \n",
       "0   82160000  17949.369141  \n",
       "1  133030000  17929.990234  \n",
       "2  106380000  17694.679688  \n",
       "3  112190000  17409.720703  \n",
       "4  138740000  17140.240234  "
      ]
     },
     "execution_count": 137,
     "metadata": {},
     "output_type": "execute_result"
    }
   ],
   "source": [
    "stocks_df= pd.read_csv(\"DowJones.csv\")\n",
    "stocks_df.head()                       "
   ]
  },
  {
   "cell_type": "code",
   "execution_count": null,
   "metadata": {},
   "outputs": [
    {
     "data": {
      "text/plain": [
       "(1989, 7)"
      ]
     },
     "execution_count": 88,
     "metadata": {},
     "output_type": "execute_result"
    }
   ],
   "source": [
    "stocks_df.shape"
   ]
  },
  {
   "cell_type": "code",
   "execution_count": null,
   "metadata": {},
   "outputs": [],
   "source": [
    "# stocks_df['Bulls/Bears score'] = stocks_df['Adj Close'] - stocks_df['Open']\n",
    "# selected_columns = ['Date', 'Bulls/Bears score']\n",
    "# new_stocks_df = stocks_df[selected_columns]\n",
    "# new_stocks_df.head()\n"
   ]
  },
  {
   "cell_type": "code",
   "execution_count": null,
   "metadata": {},
   "outputs": [],
   "source": [
    "# merged_df = pd.merge(new_stocks_df, grouped_df, on='Date', how='inner')\n",
    "\n",
    "# # Display the merged dataframe\n",
    "# merged_df.head()"
   ]
  },
  {
   "cell_type": "code",
   "execution_count": null,
   "metadata": {},
   "outputs": [],
   "source": [
    "# from textblob import TextBlob\n",
    "# sentiment_scores = []\n",
    "# for headline in merged_df['Cleaned_News']:\n",
    "#     # Perform sentiment analysis on each headline\n",
    "#     blob = TextBlob(headline)\n",
    "#     sentiment_scores.append(blob.sentiment.polarity)\n",
    "\n",
    "# # Step 3: Combine data\n",
    "# merged_df['Sentiment'] = sentiment_scores\n",
    "# merged_df.head()"
   ]
  },
  {
   "cell_type": "code",
   "execution_count": null,
   "metadata": {},
   "outputs": [],
   "source": [
    "# merged_df['Bulls/Bears score'] = merged_df['Bulls/Bears score'] / 1000\n",
    "# merged_df.head()\n"
   ]
  },
  {
   "cell_type": "code",
   "execution_count": null,
   "metadata": {},
   "outputs": [],
   "source": [
    "# import matplotlib.pyplot as plt\n",
    "\n",
    "# correlation = np.corrcoef(merged_df['Sentiment'], merged_df['Bulls/Bears score'])[0, 1]\n",
    "\n",
    "# # Plotting the correlation chart\n",
    "# plt.figure(figsize=(8, 6))\n",
    "# plt.scatter(merged_df['Sentiment'], merged_df['Bulls/Bears score'], alpha=0.5)\n",
    "# plt.title(f\"Sentiment vs. Bulls/Bears score (Correlation: {correlation:.2f})\")\n",
    "# plt.xlabel('Sentiment')\n",
    "# plt.ylabel('Bulls/Bears score')\n",
    "# plt.grid(True)\n",
    "# plt.show()"
   ]
  },
  {
   "cell_type": "code",
   "execution_count": null,
   "metadata": {},
   "outputs": [],
   "source": [
    "# embeddings_index = {}\n",
    "# with open('C:/Users/HP/Desktop/glove.840B.300d.txt', encoding='utf-8') as f:\n",
    "#     for line in f:\n",
    "#         values = line.split(' ')\n",
    "#         word = values[0]\n",
    "#         embedding = np.asarray(values[1:], dtype='float32')\n",
    "#         embeddings_index[word] = embedding\n",
    "\n",
    "# print('Word embeddings:', len(embeddings_index))\n"
   ]
  },
  {
   "cell_type": "code",
   "execution_count": null,
   "metadata": {},
   "outputs": [],
   "source": [
    "# def headline_embedding(headline):\n",
    "#     words = headline.lower().split()\n",
    "#     vectors = []\n",
    "#     for word in words:\n",
    "#         if word in embeddings_index:\n",
    "#             vectors.append(embeddings_index[word])\n",
    "#     if vectors:\n",
    "#         return np.mean(vectors, axis=0)\n",
    "#     else:\n",
    "#         return np.zeros_like(next(iter(embeddings_index.values())))  # Return zero vector if no words found in GloVe\n",
    "\n",
    "# # Apply headline embedding function to create a new column with aggregated vectors\n",
    "# headlines['Headline_Vector'] = headlines['Headline'].apply(headline_embedding)\n",
    "\n",
    "# # Now, df contains a new column \"Headline_Vector\" with aggregated GloVe vectors for each headline"
   ]
  },
  {
   "cell_type": "code",
   "execution_count": null,
   "metadata": {},
   "outputs": [],
   "source": [
    "#headlines.head()"
   ]
  }
 ],
 "metadata": {
  "kernelspec": {
   "display_name": "Python 3",
   "language": "python",
   "name": "python3"
  },
  "language_info": {
   "codemirror_mode": {
    "name": "ipython",
    "version": 3
   },
   "file_extension": ".py",
   "mimetype": "text/x-python",
   "name": "python",
   "nbconvert_exporter": "python",
   "pygments_lexer": "ipython3",
   "version": "3.11.9"
  }
 },
 "nbformat": 4,
 "nbformat_minor": 2
}
